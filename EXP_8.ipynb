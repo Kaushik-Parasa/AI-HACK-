{
  "nbformat": 4,
  "nbformat_minor": 0,
  "metadata": {
    "colab": {
      "provenance": [],
      "authorship_tag": "ABX9TyPMR4QD0GBQfNpOH/CTJfFl",
      "include_colab_link": true
    },
    "kernelspec": {
      "name": "python3",
      "display_name": "Python 3"
    },
    "language_info": {
      "name": "python"
    }
  },
  "cells": [
    {
      "cell_type": "markdown",
      "metadata": {
        "id": "view-in-github",
        "colab_type": "text"
      },
      "source": [
        "<a href=\"https://colab.research.google.com/github/Kaushik-Parasa/AI-HACK-/blob/master/EXP_8.ipynb\" target=\"_parent\"><img src=\"https://colab.research.google.com/assets/colab-badge.svg\" alt=\"Open In Colab\"/></a>"
      ]
    },
    {
      "cell_type": "code",
      "execution_count": 1,
      "metadata": {
        "colab": {
          "base_uri": "https://localhost:8080/"
        },
        "id": "lKdB3mTOu9QO",
        "outputId": "92b2e188-8de3-48fe-b514-6f4266227389"
      },
      "outputs": [
        {
          "output_type": "stream",
          "name": "stdout",
          "text": [
            "\n",
            " Input Features : ['sepal length (cm)', 'sepal width (cm)', 'petal length (cm)', 'petal width (cm)']\n",
            "\n",
            "Target variables : ['setosa' 'versicolor' 'virginica']\n",
            "\n",
            "Accuracy: 0.9555555555555556\n",
            "\n",
            "Classification Report:\n",
            "               precision    recall  f1-score   support\n",
            "\n",
            "           0       1.00      1.00      1.00        14\n",
            "           1       1.00      0.88      0.94        17\n",
            "           2       0.88      1.00      0.93        14\n",
            "\n",
            "    accuracy                           0.96        45\n",
            "   macro avg       0.96      0.96      0.96        45\n",
            "weighted avg       0.96      0.96      0.96        45\n",
            "\n"
          ]
        }
      ],
      "source": [
        "from sklearn.ensemble import AdaBoostClassifier\n",
        "from sklearn import datasets\n",
        "import pandas as pd\n",
        "from sklearn.model_selection import train_test_split\n",
        "from sklearn import metrics\n",
        "iris = datasets.load_iris()\n",
        "X = iris.data\n",
        "print('\\n Input Features :',iris.feature_names)\n",
        "y = iris.target\n",
        "print('\\nTarget variables :',iris.target_names)\n",
        "X_train, X_test, y_train, y_test = train_test_split(X, y, test_size=0.3)\n",
        "abc = AdaBoostClassifier(n_estimators=50,learning_rate=1)\n",
        "model = abc.fit(X_train, y_train)\n",
        "y_pred = model.predict(X_test)\n",
        "print(\"\\nAccuracy:\",metrics.accuracy_score(y_test, y_pred))\n",
        "cr = metrics.classification_report(y_test, y_pred)\n",
        "print(\"\\nClassification Report:\\n\", cr)\n"
      ]
    }
  ]
}